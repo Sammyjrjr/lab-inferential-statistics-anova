{
 "cells": [
  {
   "cell_type": "markdown",
   "id": "e4862c4d",
   "metadata": {},
   "source": [
    "### Part 1\n",
    "### In this activity, we will look at another example. Your task is to understand the problem and write down all the steps to set up ANOVA. After the next lesson, we will ask you to solve this problem using Python. Here are the steps that you would need to work on: - Null hypothesis - Alternate hypothesis - Level of significance - Test statistic - P-value - F table"
   ]
  },
  {
   "cell_type": "code",
   "execution_count": 1,
   "id": "4b3836d0",
   "metadata": {},
   "outputs": [],
   "source": [
    "import numpy as np\n",
    "import pandas as pd\n",
    "from scipy import stats\n"
   ]
  },
  {
   "cell_type": "code",
   "execution_count": 5,
   "id": "ea7972eb",
   "metadata": {},
   "outputs": [
    {
     "data": {
      "text/html": [
       "<div>\n",
       "<style scoped>\n",
       "    .dataframe tbody tr th:only-of-type {\n",
       "        vertical-align: middle;\n",
       "    }\n",
       "\n",
       "    .dataframe tbody tr th {\n",
       "        vertical-align: top;\n",
       "    }\n",
       "\n",
       "    .dataframe thead th {\n",
       "        text-align: right;\n",
       "    }\n",
       "</style>\n",
       "<table border=\"1\" class=\"dataframe\">\n",
       "  <thead>\n",
       "    <tr style=\"text-align: right;\">\n",
       "      <th></th>\n",
       "      <th>Power</th>\n",
       "      <th>Etching Rate</th>\n",
       "    </tr>\n",
       "  </thead>\n",
       "  <tbody>\n",
       "    <tr>\n",
       "      <th>0</th>\n",
       "      <td>160 W</td>\n",
       "      <td>5.43</td>\n",
       "    </tr>\n",
       "    <tr>\n",
       "      <th>1</th>\n",
       "      <td>180 W</td>\n",
       "      <td>6.24</td>\n",
       "    </tr>\n",
       "    <tr>\n",
       "      <th>2</th>\n",
       "      <td>200 W</td>\n",
       "      <td>8.79</td>\n",
       "    </tr>\n",
       "    <tr>\n",
       "      <th>3</th>\n",
       "      <td>160 W</td>\n",
       "      <td>5.71</td>\n",
       "    </tr>\n",
       "    <tr>\n",
       "      <th>4</th>\n",
       "      <td>180 W</td>\n",
       "      <td>6.71</td>\n",
       "    </tr>\n",
       "    <tr>\n",
       "      <th>5</th>\n",
       "      <td>200 W</td>\n",
       "      <td>9.20</td>\n",
       "    </tr>\n",
       "    <tr>\n",
       "      <th>6</th>\n",
       "      <td>160 W</td>\n",
       "      <td>6.22</td>\n",
       "    </tr>\n",
       "    <tr>\n",
       "      <th>7</th>\n",
       "      <td>180 W</td>\n",
       "      <td>5.98</td>\n",
       "    </tr>\n",
       "    <tr>\n",
       "      <th>8</th>\n",
       "      <td>200 W</td>\n",
       "      <td>7.90</td>\n",
       "    </tr>\n",
       "    <tr>\n",
       "      <th>9</th>\n",
       "      <td>160 W</td>\n",
       "      <td>6.01</td>\n",
       "    </tr>\n",
       "    <tr>\n",
       "      <th>10</th>\n",
       "      <td>180 W</td>\n",
       "      <td>5.66</td>\n",
       "    </tr>\n",
       "    <tr>\n",
       "      <th>11</th>\n",
       "      <td>200 W</td>\n",
       "      <td>8.15</td>\n",
       "    </tr>\n",
       "    <tr>\n",
       "      <th>12</th>\n",
       "      <td>160 W</td>\n",
       "      <td>5.59</td>\n",
       "    </tr>\n",
       "    <tr>\n",
       "      <th>13</th>\n",
       "      <td>180 W</td>\n",
       "      <td>6.60</td>\n",
       "    </tr>\n",
       "    <tr>\n",
       "      <th>14</th>\n",
       "      <td>200 W</td>\n",
       "      <td>7.55</td>\n",
       "    </tr>\n",
       "  </tbody>\n",
       "</table>\n",
       "</div>"
      ],
      "text/plain": [
       "   Power   Etching Rate\n",
       "0   160 W          5.43\n",
       "1   180 W          6.24\n",
       "2   200 W          8.79\n",
       "3   160 W          5.71\n",
       "4   180 W          6.71\n",
       "5   200 W          9.20\n",
       "6   160 W          6.22\n",
       "7   180 W          5.98\n",
       "8   200 W          7.90\n",
       "9   160 W          6.01\n",
       "10  180 W          5.66\n",
       "11  200 W          8.15\n",
       "12  160 W          5.59\n",
       "13  180 W          6.60\n",
       "14  200 W          7.55"
      ]
     },
     "execution_count": 5,
     "metadata": {},
     "output_type": "execute_result"
    }
   ],
   "source": [
    "df = pd.read_excel(\"anova_lab_data.xlsx\")\n",
    "df"
   ]
  },
  {
   "cell_type": "markdown",
   "id": "dea4b6e0",
   "metadata": {},
   "source": [
    "### State the null hypothesis\n"
   ]
  },
  {
   "cell_type": "markdown",
   "id": "aeabfd49",
   "metadata": {},
   "source": [
    "H0: There is no statistical difference between the mean power levels and etching rates"
   ]
  },
  {
   "cell_type": "markdown",
   "id": "2836e0e5",
   "metadata": {},
   "source": [
    "### State the alternate hypothesis\n"
   ]
  },
  {
   "cell_type": "markdown",
   "id": "ad5c100c",
   "metadata": {},
   "source": [
    "H1 : There is a statistical significant difference between the groups power levels and etching rates"
   ]
  },
  {
   "cell_type": "markdown",
   "id": "d965117b",
   "metadata": {},
   "source": [
    "### What is the significance level\n"
   ]
  },
  {
   "cell_type": "markdown",
   "id": "10a98b5e",
   "metadata": {},
   "source": [
    "The significance level that we'll assume is 5% "
   ]
  },
  {
   "cell_type": "markdown",
   "id": "ba24e5f6",
   "metadata": {},
   "source": [
    "### What are the degrees of freedom of model, error terms, and total DoF"
   ]
  },
  {
   "cell_type": "markdown",
   "id": "cbbe9ab4",
   "metadata": {},
   "source": [
    "Degress of Freedom: 2 (k - 1, where is the number of groups)\n",
    "\n",
    "Error terms: Type 1 and 2 errors. T1: Reject the H0 when it should have been accepted. T2: False H0 got accepted\n",
    "\n",
    "Total DoF: 14 (N -1 , sample size minus 1)"
   ]
  },
  {
   "cell_type": "markdown",
   "id": "8b40ba4b",
   "metadata": {},
   "source": [
    "### Part 2 use Python to conduct ANOVA.\n",
    "### What conclusions can you draw from the experiment and why?"
   ]
  },
  {
   "cell_type": "code",
   "execution_count": 19,
   "id": "10a8ea89",
   "metadata": {},
   "outputs": [],
   "source": [
    "#divide in 3 levels\n",
    "small_power = np.array([5.43,5.71,6.22,6.01,5.59])\n",
    "medium_power = np.array([6.24,6.71,5.98,5.66,6.60])\n",
    "big_power = np.array([8.79,9.20,7.90,8.15,7.55])"
   ]
  },
  {
   "cell_type": "code",
   "execution_count": 26,
   "id": "8b6d2612",
   "metadata": {},
   "outputs": [
    {
     "data": {
      "text/plain": [
       "5.792"
      ]
     },
     "execution_count": 26,
     "metadata": {},
     "output_type": "execute_result"
    }
   ],
   "source": [
    "small_power.mean()"
   ]
  },
  {
   "cell_type": "code",
   "execution_count": 27,
   "id": "1748b162",
   "metadata": {},
   "outputs": [
    {
     "data": {
      "text/plain": [
       "6.2379999999999995"
      ]
     },
     "execution_count": 27,
     "metadata": {},
     "output_type": "execute_result"
    }
   ],
   "source": [
    "medium_power.mean()"
   ]
  },
  {
   "cell_type": "code",
   "execution_count": 25,
   "id": "2de3b21f",
   "metadata": {},
   "outputs": [
    {
     "data": {
      "text/plain": [
       "8.318"
      ]
     },
     "execution_count": 25,
     "metadata": {},
     "output_type": "execute_result"
    }
   ],
   "source": [
    "big_power.mean()"
   ]
  },
  {
   "cell_type": "code",
   "execution_count": 29,
   "id": "a75ca012",
   "metadata": {},
   "outputs": [
    {
     "name": "stdout",
     "output_type": "stream",
     "text": [
      "p value 7.506584272358903e-06\n",
      "We reject H0: there is a difference between the means of the three groups\n"
     ]
    }
   ],
   "source": [
    "F_critical, p_value = stats.f_oneway(small_power,medium_power,big_power)\n",
    "print(\"p value\", p_value)\n",
    "if p_value < 0.05:\n",
    "    print(\"We reject H0: there is a difference between the means of the three groups\")\n",
    "else:\n",
    "    print(\"we accept H0: the means are the equal\")"
   ]
  },
  {
   "cell_type": "markdown",
   "id": "174dfa6a",
   "metadata": {},
   "source": [
    "# Conclusion: We can reject the H0 because if we change the power the plasma will change"
   ]
  },
  {
   "cell_type": "code",
   "execution_count": null,
   "id": "c5e65b15",
   "metadata": {},
   "outputs": [],
   "source": []
  },
  {
   "cell_type": "code",
   "execution_count": null,
   "id": "96127c50",
   "metadata": {},
   "outputs": [],
   "source": []
  },
  {
   "cell_type": "code",
   "execution_count": null,
   "id": "818c697a",
   "metadata": {},
   "outputs": [],
   "source": []
  },
  {
   "cell_type": "code",
   "execution_count": null,
   "id": "37f935db",
   "metadata": {},
   "outputs": [],
   "source": []
  }
 ],
 "metadata": {
  "kernelspec": {
   "display_name": "Python 3 (ipykernel)",
   "language": "python",
   "name": "python3"
  },
  "language_info": {
   "codemirror_mode": {
    "name": "ipython",
    "version": 3
   },
   "file_extension": ".py",
   "mimetype": "text/x-python",
   "name": "python",
   "nbconvert_exporter": "python",
   "pygments_lexer": "ipython3",
   "version": "3.9.12"
  }
 },
 "nbformat": 4,
 "nbformat_minor": 5
}
